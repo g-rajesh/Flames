{
 "cells": [
  {
   "cell_type": "code",
   "execution_count": 3,
   "metadata": {},
   "outputs": [
    {
     "name": "stdout",
     "output_type": "stream",
     "text": [
      "enter name1prabhakaran\n",
      "enter name2mahalakshmi\n",
      "PRABHAKARAN have attraction on MAHALAKSHMI\n"
     ]
    }
   ],
   "source": [
    "def chop(nam1, nam2):\n",
    "    ind = 0\n",
    "  \n",
    "    for x in range(len(nam1)):\n",
    "        if nam1[ind] in nam2:\n",
    "            z = nam1.pop(ind)\n",
    "            nam2.remove(z)\n",
    "            continue\n",
    "        ind += 1\n",
    "        \n",
    "    return len(nam1) + len(nam2)\n",
    "                \n",
    "flames = [\"F\", \"L\", \"A\", \"M\", \"E\", \"S\"]\n",
    "n1 = list(input('enter name1').replace(\" \",\"\").upper())\n",
    "n2 = list(input('enter name2'). replace(\" \",\"\").upper())\n",
    "name1 = n1. copy()\n",
    "name2 = n2. copy()\n",
    "\n",
    "if len(n1) > len(n2):\n",
    "    l = chop(n1, n2)\n",
    "else:\n",
    "    l = chop(n2,n1)\n",
    "\n",
    "f_l = 6\n",
    "add = 0\n",
    "\n",
    "while f_l > 1:\n",
    "  \n",
    "    lenght = l + add\n",
    "\n",
    "    while lenght > len(flames):\n",
    "        lenght -= len(flames)\n",
    "\n",
    "    add = lenght - 1\n",
    "    flames.pop(lenght - 1)\n",
    "    f_l -= 1\n",
    "  \n",
    "if flames[0] == 'F': print(f\"{''.join(name1)} is a friend of {''.join(name2)}\")\n",
    "elif flames[0] == 'L': print(f\"{''.join(name1)} is a lover of {''.join(name2)}\")\n",
    "elif flames[0] == 'A': print(f\"{''.join(name1)} have attraction on {''.join(name2)}\")\n",
    "elif flames[0] == 'M': print(f\"{''.join(name1)} will marry {''.join(name2)}\")\n",
    "elif flames[0] == 'E': print(f\"{''.join(name1)} is enemy of {''.join(name2)}\")\n",
    "else: print(f\"{''.join(name1)} is sister of {''.join(name2)}\")\n"
   ]
  },
  {
   "cell_type": "code",
   "execution_count": null,
   "metadata": {},
   "outputs": [],
   "source": []
  }
 ],
 "metadata": {
  "kernelspec": {
   "display_name": "Python 3",
   "language": "python",
   "name": "python3"
  },
  "language_info": {
   "codemirror_mode": {
    "name": "ipython",
    "version": 3
   },
   "file_extension": ".py",
   "mimetype": "text/x-python",
   "name": "python",
   "nbconvert_exporter": "python",
   "pygments_lexer": "ipython3",
   "version": "3.7.6"
  }
 },
 "nbformat": 4,
 "nbformat_minor": 4
}
